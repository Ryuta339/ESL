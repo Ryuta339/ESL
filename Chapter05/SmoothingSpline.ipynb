{
 "cells": [
  {
   "cell_type": "markdown",
   "metadata": {},
   "source": [
    "# 平滑化スプライン\n",
    "\n",
    "\\begin{align*}\n",
    "    {\\rm RSS} (f, \\lambda) = \\sum_{i=1}^N (y_i - f(x_i) )^2 + \\lambda \\int f^{\\prime\\prime}(t)^2 dt\n",
    "\\end{align*}\n",
    "\n",
    "- $\\lambda=0$: $f$ はデータを補間する任意の関数。\n",
    "- $\\lambda=\\infty$: $f$ は最小二乗解。\n",
    "\n",
    "\\begin{align*}\n",
    "\\cfrac{\\partial}{\\partial a} \\sum_{i=1}^N (y_i - a - bx_i)^2\n",
    "=& - \\sum_{i=1}^N 2(y_i - a - bx_i)\n",
    "= 2aN - 2\\sum_{i=1}^N (y_i - bx_i) \\\\\n",
    "\\cfrac{\\partial}{\\partial b} \\sum_{i=1}^N (y_i - a - bx_i)^2\n",
    "=& - \\sum_{i=1}^N 2(y_i-a-bx_i)x_i\n",
    "= 2b \\sum_{i=1}^N x_i^2 - 2\\sum_{i=1}^N (y_i - a)x_i \\\\\n",
    "\\therefore\\qquad\n",
    "a =& \\cfrac{1}{N} \\sum_{i=1}^N (y_i - b x_i)\n",
    "= \\bar{y} - b\\bar{x} \\\\\n",
    "b{\\sum_{i=1}^N x_i^2} =& {\\sum_{i=1}^N(y_i - a)x_i}\n",
    "= {\\sum_{i=1}^N \\left(y_i - \\bar{y} + b\\bar{x}\\right)x_i}\n",
    "= {\\sum_{i=1}^N x_iy_i - N\\bar{x}\\bar{y} + Nb\\bar{x}^2} \\\\\n",
    "\\therefore\\qquad\n",
    "b =& \\cfrac{N^{-1}\\sum_{i=1}^Nx_iy_i - \\bar{x}\\bar{y}}{N^{-1}\\sum_{i=1}^Nx_i^2 - \\bar{x}^2}\n",
    "= \\cfrac{{\\rm Cov}(x,y)}{\\mathbb{V}[x]}\n",
    "\\end{align*}"
   ]
  },
  {
   "cell_type": "code",
   "execution_count": 2,
   "metadata": {
    "code_folding": [],
    "scrolled": true
   },
   "outputs": [
    {
     "data": {
      "image/png": "[encoded data removed]",
      "text/plain": [
       "<Figure size 1152x432 with 2 Axes>"
      ]
     },
     "metadata": {
      "needs_background": "light"
     },
     "output_type": "display_data"
    }
   ],
   "source": [
    "# case of lambda = 0 and lambda = infty \n",
    "\n",
    "import numpy as np;\n",
    "import matplotlib.pyplot as plt;\n",
    "\n",
    "# data creation\n",
    "N = 20;\n",
    "sigma = 0.1;\n",
    "X = 2*np.pi*np.random.rand (N,1);\n",
    "Y = np.sin (X) + sigma*np.random.normal (size=(N,1));\n",
    "\n",
    "# lambda = 0\n",
    "fig = plt.figure (figsize=(16,6));\n",
    "ax = fig.add_subplot(121);\n",
    "ax.scatter (X[:,0],Y[:,0]);\n",
    "ax.set_xlim ([0, 2*np.pi]);\n",
    "values = list(zip(X,Y));\n",
    "data = np.array (values, dtype=[('a',float),('b',float)]);\n",
    "sorted_data = np.sort (data, order=['a','b']);\n",
    "sorted_X = [];\n",
    "sorted_Y = [];\n",
    "for sd in sorted_data:\n",
    "    sorted_X.append (sd[0]);\n",
    "    sorted_Y.append (sd[1]);\n",
    "ax.plot (sorted_X[:], sorted_Y[:], 'r');\n",
    "ax.set_title (\"$\\lambda=0$\", fontsize=18)\n",
    "\n",
    "# lambda = infty\n",
    "ax = fig.add_subplot(122)\n",
    "ax.scatter (X[:,0],Y[:,0]);\n",
    "ax.set_xlim ([0, 2*np.pi]);\n",
    "b = np.cov(X.T, Y.T)[0,1] / np.var (X);\n",
    "a = np.mean(Y) - b*np.mean(X);\n",
    "xs = np.linspace (0,2*np.pi);\n",
    "ax.plot (xs, a+xs*b, 'r');\n",
    "ax.set_title (\"$\\lambda=\\infty$\", fontsize=18);\n"
   ]
  },
  {
   "cell_type": "markdown",
   "metadata": {},
   "source": [
    "\\begin{align*}\n",
    "    &N_1(x) = 1, N_2(x) = x, N_k(x) = d_{k-2}(x) - d_{N-1}(x) \\quad (k \\geq 3) \\\\\n",
    "    &d_k (x) = \\cfrac{(x - x_k)_+^3 - (x-x_{N})_+^3}{x_N - x_k}\n",
    "    = \\left\\{\n",
    "        \\begin{matrix}\n",
    "            0 & (x \\leq x_k) \\\\\n",
    "            \\cfrac{(x-x_k)^3}{x_N-x_k} & (x_k < x < x_N) \\\\\n",
    "            3x^2 - 3(x_N+x_k)x + (x_N^2+x_Nx_k + x_k^2) & (x_N \\leq x)\n",
    "        \\end{matrix}\n",
    "        \\right. \\\\\n",
    "    &d_{k-2} (x_j) = \\left\\{ \\begin{matrix}\n",
    "        0 & (j \\leq k-2) \\\\\n",
    "        \\cfrac{(x_j - x_{k-2})^3}{x_N - x_{k-2}} & (j > k-2)\n",
    "        \\end{matrix} \\right. \\\\\n",
    "    &d_{N-1} (x_j) = \\left\\{\\begin{matrix}\n",
    "        0 & (j \\leq N-1) \\\\\n",
    "        (x_{N} - x_{N-1})^2 & (j = N)\n",
    "        \\end{matrix} \\right. \\\\\n",
    "    &N_k (x_j)\n",
    "        = \\left\\{ \\begin{matrix}\n",
    "            0 & (j \\leq k-2) \\\\\n",
    "            \\cfrac{(x_j-x_{k-2})^3}{x_N - x_{k-2}} & (k-2 \\leq j \\leq N-1) \\\\\n",
    "            (x_N - x_{k-2})^2 - (x_N - x_{N-1})^2 & (j = N)\n",
    "        \\end{matrix} \\right. (k \\geq 3)\n",
    "\\end{align*}\n",
    "\n",
    "\\begin{align*}\n",
    "    \\mathbf{N}\n",
    "    =& \\left( \\begin{matrix}\n",
    "            N_1(x_1) & N_2(x_1) & N_3(x_1) & N_4(x_1) & \\cdots & N_N(x_1) \\\\\n",
    "            N_1(x_2) & N_2(x_2) & N_3(x_2) & N_4(x_2) & \\cdots & N_N(x_2) \\\\\n",
    "            N_1(x_3) & N_2(x_3) & N_3(x_3) & N_4(x_3) & \\cdots & N_N(x_3) \\\\\n",
    "            \\vdots & \\vdots & \\vdots & \\vdots & \\ddots & \\vdots \\\\\n",
    "            N_1(x_{N-1}) & N_2(x_{N-1}) & N_3(x_{N-1}) & N_4(x_{N-1}) & \\cdots & N_N(x_{N-1}) \\\\\n",
    "            N_1(x_N) & N_2(x_N) & N_3(x_N) & N_4(x_N) & \\cdots & N_N(x_N)\n",
    "        \\end{matrix} \\right) \\\\\n",
    "    =& \\left( \\begin{matrix}\n",
    "            1 & x_1 & 0 & 0 & \\cdots & 0 \\\\\n",
    "            1 & x_2 & \\cfrac{(x_2-x_1)^3}{x_N-x_1} & 0 & \\cdots & 0 \\\\\n",
    "            1 & x_3 & \\cfrac{(x_3-x_1)^3}{x_N-x_1} & \\cfrac{(x_3-x_2)^3}{x_N-x_2} & \\cdots & 0  \\\\\n",
    "            \\vdots & \\vdots & \\vdots & \\vdots & \\ddots & \\vdots \\\\\n",
    "            1 & x_{N-1} & \\cfrac{(x_{N-1}-x_1)^3}{x_N-x_1} & \\cfrac{(x_{N-1}-x_2)^3}{x_N-x_2} & \\cdots & \\cfrac{(x_{N-1}-x_{N-2})^3}{x_N-x_{N-2}} \\\\\n",
    "            1 & x_N & N_3(x_N) & N_4(x_N) & \\cdots & N_N(x_N)\n",
    "        \\end{matrix}\\right)\n",
    "\\end{align*}"
   ]
  },
  {
   "cell_type": "markdown",
   "metadata": {},
   "source": [
    "\\begin{align*}\n",
    "    &N_1^{\\prime\\prime}(x) = 0,\n",
    "    N_2^{\\prime\\prime}(x) = 0, \\\\\n",
    "    &d_k^{\\prime\\prime}(x) = \\left\\{ \\begin{matrix}\n",
    "        0 & (x \\leq x_k) \\\\\n",
    "        \\cfrac{6(x-x_k)}{x_N-x_k} & (x_k < x < x_N) \\\\\n",
    "        6 & (x_N \\leq x)\n",
    "    \\end{matrix} \\right. \\\\\n",
    "    & N^{\\prime\\prime}_k(x) \n",
    "        = d_{k-2}^{\\prime\\prime}(x) - d_{N-1}^{\\prime\\prime}(x)\n",
    "        = \\left\\{ \\begin{matrix}\n",
    "                0 & (x \\leq x_{k-2}, x_N \\leq x) \\\\\n",
    "                \\cfrac{6(x-x_{k-2})}{x_N - x_{k-2}} & (x_{k-2} < x \\leq x_{N-1}) \\\\\n",
    "                \\cfrac{6(x-x_{k-2})}{x_N-x_{k-2}} - \\cfrac{6(x-x_{N-1})}{x_N-x_{N-1}} & (x_{N-1} < x < x_N)\n",
    "            \\end{matrix} \\right.\n",
    "\\end{align*}\n",
    "\n"
   ]
  },
  {
   "cell_type": "markdown",
   "metadata": {},
   "source": [
    "\\begin{align*}\n",
    "    \\int N_j^{\\prime\\prime}(t) N_k^{\\prime\\prime}(t) dt =& \\int N_k^{\\prime\\prime}(t) N_j^{\\prime\\prime} (t) dt = 0\n",
    "        \\qquad (j=1,2) \\\\\n",
    "    \\int N_j^{\\prime\\prime}(t)^2 dt \n",
    "        =& 36\\int_{x_{j-2}}^{x_{N-1}} \\cfrac{(t-x_{j-2})^2}{(x_N - x_{j-2})^2} dt \n",
    "            + 36\\int_{x_{N-1}}^{x_N} \\left\\{\\cfrac{t-x_{j-2}}{x_N-x_{j-2}} - \\cfrac{t-x_{N-1}}{x_N-x_{N-1}} \\right\\}^2 dt \\\\\n",
    "        =& 36\\int_{x_{j-2}}^{x_N} \\cfrac{(t-x_{j-2})^2}{(t_N-x_{j-2})^2} dt\n",
    "            + 36 \\int_{x_{N-1}}^{x_N} \\left\\{\n",
    "                -\\cfrac{2(t-x_{j-2})(t-x_{N-1})}{(x_N-x_{j-2})(x_N-x_{N-1})}\n",
    "                +\\cfrac{(t-x_{N-1})^2}{(x_N-x_{N-1})}\n",
    "            \\right\\} dt \\\\\n",
    "        =& 12 \\left[\\cfrac{(t-x_{j-2})^3}{(x_N - x_{j-2})^2} \\right]_{x_{j-2}}^{x_N}\n",
    "            - \\cfrac{12}{(x_N-x_{j-2})(x_N-x_{N-1})} \\left[2t^3 - 3(x_{j-2}+x_{N-1})t^2 + 6x_{j-2}x_{N-1}t \\right]_{x_{N-1}}^{x_N}\n",
    "            + 12 \\left[\\cfrac{(t-x_{N-1})^3}{(x_N-x_{N-1})^2} \\right]_{x_{N-1}}^{x_N} \\\\\n",
    "        =& 12(x_N - x_{j-2}) + 12(x_N - x_{N-1})\n",
    "            - \\cfrac{12}{x_N-x_{j-2}} \\left\\{\n",
    "                2(x_N^2 + x_Nx_{N-1} + x_{N-1}^2)\n",
    "                - 3(x_{j-2} + x_{N-1}) (x_N + x_{N-1})\n",
    "                + 6x_{j-2} x_{N-1}\n",
    "            \\right\\} \\\\\n",
    "        =& 12(x_N - x_{j-2}) + 12(x_N - x_{N-1})\n",
    "            - \\cfrac{12}{x_N - x_{j-2}} \\left\\{\n",
    "                2x_N^2 - x_{N-1}^2 - x_{N-1}x_N + 3x_{j-2}x_{N-1} - 3x_{j-2}x_N\n",
    "            \\right\\} \\\\\n",
    "        =& \\cfrac{12}{x_N-x_{j-2}} \\left\\{\n",
    "                (x_N^2 - 2x_{j-2}x_N + x_{j-2}^2)\n",
    "                + (x_N^2 - 2x_{N-1}x_N + x_{N-1}^2)\n",
    "                - (2x_N^2 - x_{N-1}^2 - x_{N-1}x_N + 3x_{j-2}x_{N-1} - 3x_{j-2}x_N)\n",
    "            \\right\\} \\\\\n",
    "        =& \\cfrac{12}{x_N-x_{j-2}} \\left\\{\n",
    "                x_{j-2}^2 + 2x_{N-1}^2\n",
    "                - 3x_{j-2}x_{N-1} + x_{j-2}x_N - x_{N-1}x_N\n",
    "            \\right\\} \\\\\n",
    "        =& \\cfrac{12}{x_N-x_{j-2}}\n",
    "            (x_{j-2} - x_{N-1})(x_{j-2} - 2x_{N-1} + x_N)\n",
    "\\end{align*}\n"
   ]
  },
  {
   "cell_type": "markdown",
   "metadata": {},
   "source": [
    "\\begin{align*}\n",
    "    \\int N_j^{\\prime\\prime}(t) N_k^{\\prime\\prime} (t) dt\n",
    "    =& 36\\int_{x_{k-2}}^{x_{N-1}} \\cfrac{(t-x_{j-2})(t-x_{k-2})}{(x_N-x_{j-2})(x_N-x_{k-2})} dt\n",
    "        + 36\\int_{x_{N-1}}^{x_N} \n",
    "            \\left(\\cfrac{t-x_{j-2}}{x_N-x_{j-2}} - \\cfrac{t-x_{N-1}}{x_N-x_{N-1}}\\right)\n",
    "            \\left(\\cfrac{t-x_{k-2}}{x_N-x_{k-2}} - \\cfrac{t-x_{N-1}}{x_N-x_{N-1}}\\right)\n",
    "            dt \\\\\n",
    "    =& 36 \\int_{x_{k-2}}^{x_N} \\cfrac{(t-x_{j-2})(t-x_{k-2})}{(x_N-x_{j-2})(x_N-x_{k-2})} dt\n",
    "        + 36 \\int_{x_{N-1}}^{x_N} \n",
    "            \\left\\{\n",
    "                - \\left(\\cfrac{2t-x_{j-2}-x_{k-2}}{2x_N-x_{j-2}-x_{k-2}}\\right)\\left( \\cfrac{t-x_{N-1}}{x_N-x_{N-1}} \\right)\n",
    "                + \\left(\\cfrac{t-x_{N-1}}{x_N-x_{N-1}}\\right)^2\n",
    "            \\right\\} dt \\\\\n",
    "    =& \\cfrac{12}{(x_N-x_{j-2})(x_N-x_{k-2})} \\left[ 2t^3 - 3(x_{j-2}+x_{k-2})t^2 + 6x_{j-2}x_{k-2}t \\right]_{x_{k-2}}^{x_N}\n",
    "        - \\cfrac{12}{(2x_N-x_{j-2}-x_{k-2})(x_N-x_{N-1})} \\left[ 4t^3 - 3(x_{j-2}+x_{k-2}+x_{N-1})t^2 + 6x_{N-1}(x_{j-2}+x_{k-2})t \\right]_{x_{N-1}}^{x_N}\n",
    "        + 12 \\left[ \\cfrac{(t-x_{N-1})^3}{(x_N-x_{N-1})^2} \\right]_{x_{N-1}}^{x_N} \\\\\n",
    "    =& \\cfrac{12}{x_N-x_{j-2}} \\left\\{\n",
    "            2(x_N^2+x_{k-2}x_N+x_{k-2}^2)\n",
    "            -3 (x_{j-2}+x_{k-2})(x_N + x_{k-2})\n",
    "            +6 x_{j-2}x_{k-2}\n",
    "        \\right\\} \n",
    "        + 12 (x_N-x_{N-1})\n",
    "        - \\cfrac{12}{2x_N-x_{j-2}-x_{k-2}} \\left\\{\n",
    "            4(x_N^2 + x_{N-1}x_N + x_{N-1}^2)\n",
    "            -3(x_{j-2} + x_{k-2} + x_{N-1})(x_N + x_{N-1})\n",
    "            +6x_{N-1}(x_{j-2}+x_{k-2})\n",
    "        \\right\\}\n",
    "        \\quad(2 \\leq j < k)\n",
    "\\end{align*}"
   ]
  },
  {
   "cell_type": "code",
   "execution_count": 4,
   "metadata": {
    "code_folding": []
   },
   "outputs": [],
   "source": [
    "import csv\n",
    "import numpy as np;\n",
    "\n",
    "# get data\n",
    "\n",
    "file = open(\"../data/LAozone.csv\", \"r\", encoding=\"utf_8\", errors=\"\", newline=\"\" )\n",
    "f = csv.reader(file, delimiter=\",\", doublequote=True, lineterminator=\"\\r\\n\", quotechar='\"', skipinitialspace=True)\n",
    "header = next(f);\n",
    "N = 128\n",
    "train_data = np.array ([[float (x) for x in row[:]] for row in f]);\n",
    "train_Y = train_data[0:-1,0];\n",
    "train_X = train_data[0:-1,6];\n",
    "\n",
    "K = len(np.unique(train_Y));\n",
    "N, = train_X.shape;\n",
    "\n",
    "\n",
    "import matplotlib.pyplot as plt;\n",
    "import scipy.optimize as opt;\n",
    "\n",
    "# sorting by ascending order\n",
    "values = list(zip(train_X,train_Y));\n",
    "data = np.array (values, dtype=[('a',float),('b',float)]);\n",
    "sorted_data = np.sort (data, order=['a','b']);\n",
    "sorted_X = [];\n",
    "sorted_Y = [];\n",
    "mx = -np.inf;\n",
    "for sd in sorted_data:\n",
    "    if (mx < sd[0]):\n",
    "        sorted_X.append (sd[0]);\n",
    "        sorted_Y.append (sd[1]);\n",
    "        mx = sd[0];\n",
    "\n",
    "dataX = np.array (sorted_X);\n",
    "dataY = np.array (sorted_Y);\n",
    "\n",
    "N, = dataX.shape;\n"
   ]
  },
  {
   "cell_type": "code",
   "execution_count": 7,
   "metadata": {},
   "outputs": [
    {
     "data": {
      "text/plain": [
       "[<matplotlib.lines.Line2D at 0x1172dafd0>]"
      ]
     },
     "execution_count": 7,
     "metadata": {},
     "output_type": "execute_result"
    },
    {
     "data": {
      "image/png": "[encoded data removed]",
      "text/plain": [
       "<Figure size 576x432 with 1 Axes>"
      ]
     },
     "metadata": {
      "needs_background": "light"
     },
     "output_type": "display_data"
    }
   ],
   "source": [
    "from scipy.interpolate import UnivariateSpline;\n",
    "\n",
    "plt.figure (figsize=(8,6))\n",
    "w = np.array ([0.05 if i%10==0 else 0 for i in range (N)])\n",
    "w2 = np.array ([0.05 if i%5==0 else 0 for i in range (N)])\n",
    "w3 = np.array ([0.5 if i%10==0 else 0.2 for i in range (N)])\n",
    "plt.scatter(train_X[:], train_Y[:])\n",
    "s_knot1 = UnivariateSpline (dataX, dataY, w=w, s=5.0);\n",
    "s_knot2 = UnivariateSpline (dataX, dataY, w=w, s=1.0);\n",
    "s2_knot1 = UnivariateSpline (dataX, dataY, w=w2, s=5.0);\n",
    "s2_knot2 = UnivariateSpline (dataX, dataY, w=w2, s=1.0);\n",
    "s3_knot1 = UnivariateSpline (dataX, dataY, w=w3, s=5.0);\n",
    "s3_knot2 = UnivariateSpline (dataX, dataY, w=w3, s=1.0);\n",
    "x = np.linspace (-70,80);\n",
    "plt.plot (x,s_knot1(x), 'r')\n",
    "plt.plot (x,s_knot2(x), 'g')\n",
    "plt.plot (x,s2_knot1(x), 'r--')\n",
    "plt.plot (x,s2_knot2(x), 'g--')\n",
    "plt.plot (x,s2_knot1(x), 'r-.')\n",
    "plt.plot (x,s2_knot2(x), 'g-.')"
   ]
  },
  {
   "cell_type": "code",
   "execution_count": 68,
   "metadata": {
    "code_folding": []
   },
   "outputs": [
    {
     "data": {
      "text/plain": [
       "(0, 1)"
      ]
     },
     "execution_count": 68,
     "metadata": {},
     "output_type": "execute_result"
    },
    {
     "data": {
      "image/png": "[encoded data removed]",
      "text/plain": [
       "<Figure size 432x288 with 1 Axes>"
      ]
     },
     "metadata": {
      "needs_background": "light"
     },
     "output_type": "display_data"
    }
   ],
   "source": [
    "N = 25\n",
    "\n",
    "def matrix_N (col, row):\n",
    "    # param col means  column number\n",
    "    # param row means  row number\n",
    "    if row+1==1:\n",
    "        return 1;\n",
    "    if row+1==2:\n",
    "        return dataX[col];\n",
    "    if row+1>col+1+1:\n",
    "        return 0;\n",
    "    if col+1==N:\n",
    "        return (dataX[N-1]-dataX[row-2])**2 - (dataX[N-1]-dataX[N-2])**2;\n",
    "    return (dataX[col] - dataX[row-2])**3 / (dataX[N-1] - dataX[row-2]);\n",
    "\n",
    "def matrix_Omega (col, row):\n",
    "    # param col means column number\n",
    "    # param row means row number\n",
    "    if (col+1<=2) or (row+1<=2):\n",
    "        return 0;\n",
    "    if (col+1==row+1):\n",
    "        return 12*(dataX[col-2]-dataX[N-2])*(dataX[col-2]-2*dataX[N-2]+dataX[N-1]) / (dataX[N-1]-dataX[col-2]);\n",
    "    j = row if (row<col) else col;\n",
    "    k = col if (row<col) else row;\n",
    "    tmp1_1 = dataX[N-1]*dataX[N-1]+dataX[k-2]*dataX[N-1]+dataX[k-2]*dataX[k-2];\n",
    "    tmp1_2 = (dataX[j-2]+dataX[k-2])*(dataX[N-1]+dataX[k-2]);\n",
    "    tmp1_3 = dataX[j-2]*dataX[k-2];\n",
    "    tmp2 = dataX[N-1] - dataX[N-2];\n",
    "    tmp3_1 = dataX[N-1]*dataX[N-1]+dataX[N-1]*dataX[N-2]+dataX[N-2]*dataX[N-2];\n",
    "    tmp3_2 = (dataX[j-2]+dataX[k-2]+dataX[N-2])*(dataX[N-1]+dataX[N-2]);\n",
    "    tmp3_3 = dataX[N-2]*(dataX[j-2]+dataX[k-2]);\n",
    "    tmp1 = (2*tmp1_1 - 3*tmp1_2 + 6*tmp1_3) / (dataX[N-1]-dataX[j-2]);\n",
    "    tmp3 = (4*tmp3_1 - 3*tmp3_2 + 6*tmp3_3) / (2*dataX[N-1]-dataX[j-2]-dataX[k-2]);\n",
    "    return 12*(tmp1 + tmp2 - tmp3);\n",
    "    \n",
    "    \n",
    "# calcurating matrices\n",
    "matN = np.zeros ((N,N)); \n",
    "for col in range(N):\n",
    "    for row in range (N):\n",
    "        matN[col,row] = matrix_N(col, row);\n",
    "\n",
    "Omega = np.zeros ((N,N));\n",
    "for col in range (N):\n",
    "    for row in range(N):\n",
    "        Omega[col,row] = matrix_Omega (col,row)\n",
    "\n",
    "# print (matN)\n",
    "# :print (Omega)\n",
    "# lam = 0.00022;\n",
    "u,s,vh = np.linalg.svd(matN, full_matrices=False);\n",
    "K = (u.T/s).dot (vh.T).dot(Omega).dot (vh/s).dot (u);\n",
    "# checking K is symmetric\n",
    "for row in range (N):\n",
    "    for col in range (row+1,N):\n",
    "        if not np.isclose (K[row,col],K[col,row]):\n",
    "            print (\"{},{}\".format(col, row))\n",
    "w, v = np.linalg.eig (K);\n",
    "rw = np.real (np.where (np.isreal (w), w, float('inf'))*w);\n",
    "rpw = np.where (rw>=0, rw, float('inf'));\n",
    "w = np.sort (rpw);\n",
    "sol = opt.root (lambda l: (np.sum(1.0/(1+l*np.where(np.isinf(w), 0.0, w))-12.0)), 0.1)\n",
    "lam = sol.x[0];\n",
    "# print (lam)\n",
    "plt.figure ();\n",
    "plt.plot (1.0/(1+lam*w), 'o-')\n",
    "plt.xlim ([0, 25]);\n",
    "plt.ylim ([0,1])\n",
    "# ll = np.linspace (0,1000.0, num=10000);\n",
    "# ddf = np.zeros_like (ll)\n",
    "# for idx in range (ll.shape[0]):\n",
    "#     ddf[idx] = np.sum(1.0/(1+ll[idx]*np.where(np.isinf(w),0.0,w)))\n",
    "# plt.plot (ll, ddf)"
   ]
  },
  {
   "cell_type": "code",
   "execution_count": 30,
   "metadata": {},
   "outputs": [
    {
     "name": "stdout",
     "output_type": "stream",
     "text": [
      "True\n",
      "[-3  2 -4  5]\n",
      "[0, 0, 0, 0, 0, 0, 0, 0, 0, 0]\n"
     ]
    }
   ],
   "source": [
    "import numpy as np;\n",
    "\n",
    "#  A = np.random.randn (3,2);\n",
    "#  print (A)\n",
    "#  u, s, vh = np.linalg.svd(A,full_matrices=False);\n",
    "#  print (np.allclose (A, np.dot(u*s,vh)))\n",
    "#  print ((u*s).dot(vh));\n",
    "# a = np.array ([1,3,5,2,4])\n",
    "# print (a);\n",
    "# print (np.sort (a))\n",
    "# print (np.argsort (a))\n",
    "# print (np.sort (a)[::-1])\n",
    "# print (np.argsort (a)[::-1])\n",
    "\n",
    "print (not np.isclose (3.99,4));\n",
    "print (np.positive (np.array ([-3, 2, -4, 5]) ))\n"
   ]
  }
 ],
 "metadata": {
  "kernelspec": {
   "display_name": "Python 3",
   "language": "python",
   "name": "python3"
  },
  "language_info": {
   "codemirror_mode": {
    "name": "ipython",
    "version": 3
   },
   "file_extension": ".py",
   "mimetype": "text/x-python",
   "name": "python",
   "nbconvert_exporter": "python",
   "pygments_lexer": "ipython3",
   "version": "3.7.3"
  },
  "latex_envs": {
   "LaTeX_envs_menu_present": true,
   "autoclose": false,
   "autocomplete": true,
   "bibliofile": "biblio.bib",
   "cite_by": "apalike",
   "current_citInitial": 1,
   "eqLabelWithNumbers": true,
   "eqNumInitial": 1,
   "hotkeys": {
    "equation": "Ctrl-E",
    "itemize": "Ctrl-I"
   },
   "labels_anchors": false,
   "latex_user_defs": false,
   "report_style_numbering": false,
   "user_envs_cfg": false
  }
 },
 "nbformat": 4,
 "nbformat_minor": 2
}
