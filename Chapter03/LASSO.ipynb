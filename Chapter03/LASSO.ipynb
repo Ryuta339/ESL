{
 "cells": [
  {
   "cell_type": "markdown",
   "metadata": {},
   "source": [
    "# LASSO とは\n",
    "\n",
    "データ行列と出力ベクトルをそれぞれ\n",
    "\\begin{align*}\n",
    "    \\mathbf{X} = \\left( \\begin{matrix}\n",
    "        \\mathbf{x}_1^T \\\\\n",
    "        \\mathbf{x}_2^T \\\\\n",
    "        \\vdots \\\\\n",
    "        \\mathbf{x}_n^T\n",
    "        \\end{matrix} \\right)\n",
    "        \\in \\mathbb{R}^{n \\times p},\n",
    "        \\qquad\n",
    "       \\mathbf{y} = \\left( \\begin{matrix} y_1 \\\\ y_2 \\\\ \\vdots \\\\ y_n \\end{matrix} \\right) \\in \\mathbb{R}^n\n",
    "\\end{align*}\n",
    "とおく。\n",
    "ここで\n",
    "\n",
    "- $ p $ : 説明変数の次元\n",
    "- $ n $ : データ数\n",
    "- $ \\mathbf{x}_i $ :  $i$ 番目のデータ\n",
    "\n",
    "LASSO では以下の式を最小化する重みベクトル $\\beta_0 \\in \\mathbb{R}, \\boldsymbol{\\beta} \\in \\mathbb{R}^{p}$ を推定する。\n",
    "\\begin{align*}\n",
    "    {\\rm arg~min}_{\\beta_0, \\boldsymbol{\\beta}}\n",
    "    \\cfrac{1}{2} \\parallel \\mathbf{y} - \\beta_0\\mathbf{1} - \\mathbf{X} \\boldsymbol{\\beta} \\parallel_2^2 + \\lambda \\parallel \\boldsymbol{\\beta} \\parallel_1\n",
    "\\end{align*}"
   ]
  },
  {
   "cell_type": "markdown",
   "metadata": {},
   "source": [
    "## 座標降下法\n",
    "\n",
    "### $\\beta_0 = 0$ の場合\n",
    "\n",
    "\\begin{align*}\n",
    "    {\\rm arg~min}_{\\boldsymbol{\\beta} \\in \\mathbb{R}^p}\n",
    "    \\cfrac{1}{2} \\parallel \\mathbf{y} - \\mathbf{X} \\boldsymbol{\\beta} \\parallel_2^2\n",
    "    + \\lambda \\parallel \\boldsymbol{\\beta} \\parallel_1\n",
    "\\end{align*}\n",
    "\n",
    "座標降下法は他の係数はすでに更新したことを仮定し，重み $\\beta_j$ に対して部分的に最適化を行う手法である。\n",
    "\n",
    "\\begin{align*}\n",
    "    &\\tilde{\\beta}_j\n",
    "    \\leftarrow S (z_j,  \\lambda)\n",
    "    = \\left\\{\n",
    "        \\begin{matrix}\n",
    "            z_j - \\lambda   & (z_j>0 \\& |z_j| > \\lambda) \\\\\n",
    "            z_j + \\lambda  & (z_j<0 \\& |z_j| > \\lambda) \\\\\n",
    "            0                 & (|z_j| \\leq \\lambda)\n",
    "        \\end{matrix}\n",
    "        \\right. \\\\\n",
    "    &\\mathbf{z} = \\left( \\begin{matrix} z_1 \\\\  z_2 \\\\ \\vdots \\\\ z_p \\end{matrix} \\right)\n",
    "    = \\cfrac{1}{n} \\mathbf{X} (\\mathbf{y} - \\tilde{\\mathbf{y}}^{(j)})\n",
    "\\end{align*}\n",
    "ここで、\n",
    "\\begin{align*}\n",
    "    \\tilde{y}^{(j)}_i = \\sum_{k=1 (\\neq j)}^p x_{ik} \\tilde{\\beta}_k ,\n",
    "    \\quad\n",
    "    \\tilde{\\mathbf{y}}^{(j)}\n",
    "    = \\left( \\begin{matrix} \\tilde{y}^{(j)}_1 \\\\ \\tilde{y}^{(j)}_2 \\\\ \\vdots \\\\ \\tilde{y}^{(j)}_n \\end{matrix} \\right) \n",
    "    = \\left( \\begin{matrix}\n",
    "        \\displaystyle \\sum_{k=1(\\neq j)}^p x_{1k} \\tilde{\\beta}_k \\\\\n",
    "        \\displaystyle \\sum_{k=1(\\neq j)}^p x_{2k} \\tilde{\\beta}_k \\\\\n",
    "        \\vdots \\\\\n",
    "        \\displaystyle \\sum_{k=1(\\neq j)}^p x_{nk} \\tilde{\\beta}_k\n",
    "        \\end{matrix} \\right)\n",
    "\\end{align*}"
   ]
  },
  {
   "cell_type": "markdown",
   "metadata": {},
   "source": [
    "#### 1次元の場合\n",
    "\n",
    "\\begin{align*}\n",
    "    {\\rm arg~min}_{\\beta \\in \\mathbb{R}}\n",
    "    = \\cfrac{1}{2} \\sum_{i=1}^n (y_i - x_i \\beta_1)^2 + \\lambda |\\beta_1|\n",
    "\\end{align*}\n",
    "\n",
    "\\begin{align*}\n",
    "    \\cfrac{1}{2} \\sum_{i=1}^n (y_i - x_i \\beta_1)^2 + \\lambda \\beta_1 {\\rm sgn\\ }(\\beta_1)\n",
    "    =& \\cfrac{1}{2} \\sum_{i=1}^n x_i^2 \\beta_1^2 - \\left(\\sum_{i=1}^n y_i x_i - \\lambda{\\rm sgn\\ }(\\beta_1) \\right) \\beta_1 + const. \\\\\n",
    "    =& \\cfrac{1}{2} \\sum_{i=1}^n x_i^2 \\left\\{\n",
    "            \\beta_1 -\n",
    "            \\left(\\sum_{i=1}^n y_i x_i - \\lambda{\\rm sgn\\ }(\\beta_1) \\right) \\left( \\sum_{i=1}^n x_i^2 \\right)^{-1}\n",
    "        \\right\\}^2\n",
    "        + const. \\\\\n",
    "    =& \\cfrac{1}{2} n\\left\\{\n",
    "            \\beta_1 -\n",
    "            \\cfrac{1}{n}\\left( \\sum_{i=1}^n y_i x_i - \\lambda {\\rm sgn\\ }(\\beta_1) \\right)\n",
    "        \\right\\}^2\n",
    "        + const. \n",
    "\\end{align*}\n",
    "最後はデータを白色化 ($ \\sum_i x_i = 0, \\sum_i x_i^2 = n $) しているものとして計算。\n",
    "\\begin{align*}\n",
    "    \\hat{\\beta}_1 = \\left\\{ \\begin{matrix}\n",
    "        \\displaystyle \\cfrac{1}{n} \\left(\\sum_{i=1}^n y_ix_i - \\lambda\\right) & \\displaystyle \\sum_{i=1}^n y_i x_i > \\lambda \\\\\n",
    "        \\displaystyle \\cfrac{1}{n} \\left(\\sum_{i=1}^n y_ix_i + \\lambda\\right) & \\displaystyle \\sum_{i=1}^n y_i x_i < -\\lambda \\\\\n",
    "        0                                           & \\displaystyle - \\lambda \\leq \\sum_{i=1}^n y_i x_i \\leq \\lambda\n",
    "        \\end{matrix} \\right.\n",
    "\\end{align*}"
   ]
  },
  {
   "cell_type": "code",
   "execution_count": 47,
   "metadata": {},
   "outputs": [
    {
     "name": "stdout",
     "output_type": "stream",
     "text": [
      "[5.5450223]\n",
      "[[1.99271076]]\n"
     ]
    },
    {
     "data": {
      "image/png": "[encoded data removed]",
      "text/plain": [
       "<Figure size 432x288 with 1 Axes>"
      ]
     },
     "metadata": {
      "needs_background": "light"
     },
     "output_type": "display_data"
    }
   ],
   "source": [
    "# 1次元\n",
    "\n",
    "\n",
    "import numpy as np;\n",
    "import matplotlib.pyplot as plt;\n",
    "\n",
    "# 　generating data\n",
    "\n",
    "b = 2.0;\n",
    "s = 2.0;\n",
    "x = np.random.rand (1,100) * 20.0 - 10.0;\n",
    "y = b*x + s*np.random.randn (1, 100)\n",
    "\n",
    "plt.scatter (x[0,:],y[0,:])\n",
    "\n",
    "\n",
    "# whitening\n",
    "m = np.mean (x,axis=1);\n",
    "s = np.std (x, axis=1);\n",
    "xw = (x-m)/s;\n",
    "\n",
    "# estimating\n",
    "_, n = x.shape\n",
    "z = y.dot (xw.T) \n",
    "beta = 0.0;\n",
    "lmd = 5.0;\n",
    "if (z > lmd):\n",
    "    beta = (z - lmd)/(n*s);\n",
    "elif (z < -lmd):\n",
    "    beta = (z + lmd)/(n*s);\n",
    "\n",
    "xs = np.linspace (-10,10);\n",
    "plt.plot (xs, (beta*xs).reshape (50,));"
   ]
  },
  {
   "cell_type": "code",
   "execution_count": 48,
   "metadata": {},
   "outputs": [
    {
     "data": {
      "image/png": "[encoded data removed]",
      "text/plain": [
       "<Figure size 432x288 with 1 Axes>"
      ]
     },
     "metadata": {
      "needs_background": "light"
     },
     "output_type": "display_data"
    }
   ],
   "source": [
    "llmds = np.linspace (-3,4);\n",
    "idx = 0;\n",
    "betas = np.zeros_like (llmds);\n",
    "for lmd in (10.0 ** llmds):\n",
    "    if (z > lmd):\n",
    "        betas[idx] = (z - lmd)/(n*s);\n",
    "    elif (z < -lmd):\n",
    "        betas[idx] = (z + lmd)/(n*s);\n",
    "        \n",
    "    idx += 1;\n",
    "    \n",
    "plt.plot ( (10.0 ** llmds), betas);\n",
    "plt.xscale ('log')"
   ]
  }
 ],
 "metadata": {
  "kernelspec": {
   "display_name": "Python 3",
   "language": "python",
   "name": "python3"
  },
  "language_info": {
   "codemirror_mode": {
    "name": "ipython",
    "version": 3
   },
   "file_extension": ".py",
   "mimetype": "text/x-python",
   "name": "python",
   "nbconvert_exporter": "python",
   "pygments_lexer": "ipython3",
   "version": "3.7.3"
  }
 },
 "nbformat": 4,
 "nbformat_minor": 2
}
